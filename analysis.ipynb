{
 "cells": [
  {
   "cell_type": "markdown",
   "metadata": {},
   "source": [
    "# Covid19 Greece Analysis"
   ]
  },
  {
   "cell_type": "markdown",
   "metadata": {},
   "source": [
    "## Install the dependencies"
   ]
  },
  {
   "cell_type": "code",
   "execution_count": 7,
   "metadata": {},
   "outputs": [
    {
     "name": "stdout",
     "output_type": "stream",
     "text": [
      "Requirement already satisfied: pandas in /Users/gakonst/.virtualenvs/covid1/lib/python3.7/site-packages (1.0.1)\n",
      "Requirement already satisfied: bokeh in /Users/gakonst/.virtualenvs/covid1/lib/python3.7/site-packages (2.0.0)\n",
      "Requirement already satisfied: numpy in /Users/gakonst/.virtualenvs/covid1/lib/python3.7/site-packages (1.18.1)\n",
      "Requirement already satisfied: scipy in /Users/gakonst/.virtualenvs/covid1/lib/python3.7/site-packages (1.4.1)\n",
      "Requirement already satisfied: folium in /Users/gakonst/.virtualenvs/covid1/lib/python3.7/site-packages (0.10.1)\n",
      "Requirement already satisfied: python-dateutil>=2.6.1 in /Users/gakonst/.virtualenvs/covid1/lib/python3.7/site-packages (from pandas) (2.8.1)\n",
      "Requirement already satisfied: pytz>=2017.2 in /Users/gakonst/.virtualenvs/covid1/lib/python3.7/site-packages (from pandas) (2019.3)\n",
      "Requirement already satisfied: typing-extensions>=3.7.4 in /Users/gakonst/.virtualenvs/covid1/lib/python3.7/site-packages (from bokeh) (3.7.4.1)\n",
      "Requirement already satisfied: Jinja2>=2.7 in /Users/gakonst/.virtualenvs/covid1/lib/python3.7/site-packages (from bokeh) (2.11.1)\n",
      "Requirement already satisfied: tornado>=5 in /Users/gakonst/.virtualenvs/covid1/lib/python3.7/site-packages (from bokeh) (6.0.4)\n",
      "Requirement already satisfied: PyYAML>=3.10 in /Users/gakonst/.virtualenvs/covid1/lib/python3.7/site-packages (from bokeh) (5.3)\n",
      "Requirement already satisfied: pillow>=4.0 in /Users/gakonst/.virtualenvs/covid1/lib/python3.7/site-packages (from bokeh) (7.0.0)\n",
      "Requirement already satisfied: packaging>=16.8 in /Users/gakonst/.virtualenvs/covid1/lib/python3.7/site-packages (from bokeh) (20.3)\n",
      "Requirement already satisfied: requests in /Users/gakonst/.virtualenvs/covid1/lib/python3.7/site-packages (from folium) (2.23.0)\n",
      "Requirement already satisfied: branca>=0.3.0 in /Users/gakonst/.virtualenvs/covid1/lib/python3.7/site-packages (from folium) (0.4.0)\n",
      "Requirement already satisfied: six>=1.5 in /Users/gakonst/.virtualenvs/covid1/lib/python3.7/site-packages (from python-dateutil>=2.6.1->pandas) (1.14.0)\n",
      "Requirement already satisfied: MarkupSafe>=0.23 in /Users/gakonst/.virtualenvs/covid1/lib/python3.7/site-packages (from Jinja2>=2.7->bokeh) (1.1.1)\n",
      "Requirement already satisfied: pyparsing>=2.0.2 in /Users/gakonst/.virtualenvs/covid1/lib/python3.7/site-packages (from packaging>=16.8->bokeh) (2.4.6)\n",
      "Requirement already satisfied: chardet<4,>=3.0.2 in /Users/gakonst/.virtualenvs/covid1/lib/python3.7/site-packages (from requests->folium) (3.0.4)\n",
      "Requirement already satisfied: certifi>=2017.4.17 in /Users/gakonst/.virtualenvs/covid1/lib/python3.7/site-packages (from requests->folium) (2019.11.28)\n",
      "Requirement already satisfied: idna<3,>=2.5 in /Users/gakonst/.virtualenvs/covid1/lib/python3.7/site-packages (from requests->folium) (2.9)\n",
      "Requirement already satisfied: urllib3!=1.25.0,!=1.25.1,<1.26,>=1.21.1 in /Users/gakonst/.virtualenvs/covid1/lib/python3.7/site-packages (from requests->folium) (1.25.8)\n"
     ]
    }
   ],
   "source": [
    "!pip install pandas bokeh numpy scipy folium"
   ]
  },
  {
   "cell_type": "markdown",
   "metadata": {},
   "source": [
    "## Get an overview of the situation"
   ]
  },
  {
   "cell_type": "code",
   "execution_count": 8,
   "metadata": {},
   "outputs": [
    {
     "data": {
      "text/html": [
       "\n",
       "    <div class=\"bk-root\">\n",
       "        <a href=\"https://bokeh.org\" target=\"_blank\" class=\"bk-logo bk-logo-small bk-logo-notebook\"></a>\n",
       "        <span id=\"1403\">Loading BokehJS ...</span>\n",
       "    </div>"
      ]
     },
     "metadata": {},
     "output_type": "display_data"
    },
    {
     "data": {
      "application/javascript": [
       "\n",
       "(function(root) {\n",
       "  function now() {\n",
       "    return new Date();\n",
       "  }\n",
       "\n",
       "  var force = true;\n",
       "\n",
       "  if (typeof root._bokeh_onload_callbacks === \"undefined\" || force === true) {\n",
       "    root._bokeh_onload_callbacks = [];\n",
       "    root._bokeh_is_loading = undefined;\n",
       "  }\n",
       "\n",
       "  var JS_MIME_TYPE = 'application/javascript';\n",
       "  var HTML_MIME_TYPE = 'text/html';\n",
       "  var EXEC_MIME_TYPE = 'application/vnd.bokehjs_exec.v0+json';\n",
       "  var CLASS_NAME = 'output_bokeh rendered_html';\n",
       "\n",
       "  /**\n",
       "   * Render data to the DOM node\n",
       "   */\n",
       "  function render(props, node) {\n",
       "    var script = document.createElement(\"script\");\n",
       "    node.appendChild(script);\n",
       "  }\n",
       "\n",
       "  /**\n",
       "   * Handle when an output is cleared or removed\n",
       "   */\n",
       "  function handleClearOutput(event, handle) {\n",
       "    var cell = handle.cell;\n",
       "\n",
       "    var id = cell.output_area._bokeh_element_id;\n",
       "    var server_id = cell.output_area._bokeh_server_id;\n",
       "    // Clean up Bokeh references\n",
       "    if (id != null && id in Bokeh.index) {\n",
       "      Bokeh.index[id].model.document.clear();\n",
       "      delete Bokeh.index[id];\n",
       "    }\n",
       "\n",
       "    if (server_id !== undefined) {\n",
       "      // Clean up Bokeh references\n",
       "      var cmd = \"from bokeh.io.state import curstate; print(curstate().uuid_to_server['\" + server_id + \"'].get_sessions()[0].document.roots[0]._id)\";\n",
       "      cell.notebook.kernel.execute(cmd, {\n",
       "        iopub: {\n",
       "          output: function(msg) {\n",
       "            var id = msg.content.text.trim();\n",
       "            if (id in Bokeh.index) {\n",
       "              Bokeh.index[id].model.document.clear();\n",
       "              delete Bokeh.index[id];\n",
       "            }\n",
       "          }\n",
       "        }\n",
       "      });\n",
       "      // Destroy server and session\n",
       "      var cmd = \"import bokeh.io.notebook as ion; ion.destroy_server('\" + server_id + \"')\";\n",
       "      cell.notebook.kernel.execute(cmd);\n",
       "    }\n",
       "  }\n",
       "\n",
       "  /**\n",
       "   * Handle when a new output is added\n",
       "   */\n",
       "  function handleAddOutput(event, handle) {\n",
       "    var output_area = handle.output_area;\n",
       "    var output = handle.output;\n",
       "\n",
       "    // limit handleAddOutput to display_data with EXEC_MIME_TYPE content only\n",
       "    if ((output.output_type != \"display_data\") || (!output.data.hasOwnProperty(EXEC_MIME_TYPE))) {\n",
       "      return\n",
       "    }\n",
       "\n",
       "    var toinsert = output_area.element.find(\".\" + CLASS_NAME.split(' ')[0]);\n",
       "\n",
       "    if (output.metadata[EXEC_MIME_TYPE][\"id\"] !== undefined) {\n",
       "      toinsert[toinsert.length - 1].firstChild.textContent = output.data[JS_MIME_TYPE];\n",
       "      // store reference to embed id on output_area\n",
       "      output_area._bokeh_element_id = output.metadata[EXEC_MIME_TYPE][\"id\"];\n",
       "    }\n",
       "    if (output.metadata[EXEC_MIME_TYPE][\"server_id\"] !== undefined) {\n",
       "      var bk_div = document.createElement(\"div\");\n",
       "      bk_div.innerHTML = output.data[HTML_MIME_TYPE];\n",
       "      var script_attrs = bk_div.children[0].attributes;\n",
       "      for (var i = 0; i < script_attrs.length; i++) {\n",
       "        toinsert[toinsert.length - 1].firstChild.setAttribute(script_attrs[i].name, script_attrs[i].value);\n",
       "        toinsert[toinsert.length - 1].firstChild.textContent = bk_div.children[0].textContent\n",
       "      }\n",
       "      // store reference to server id on output_area\n",
       "      output_area._bokeh_server_id = output.metadata[EXEC_MIME_TYPE][\"server_id\"];\n",
       "    }\n",
       "  }\n",
       "\n",
       "  function register_renderer(events, OutputArea) {\n",
       "\n",
       "    function append_mime(data, metadata, element) {\n",
       "      // create a DOM node to render to\n",
       "      var toinsert = this.create_output_subarea(\n",
       "        metadata,\n",
       "        CLASS_NAME,\n",
       "        EXEC_MIME_TYPE\n",
       "      );\n",
       "      this.keyboard_manager.register_events(toinsert);\n",
       "      // Render to node\n",
       "      var props = {data: data, metadata: metadata[EXEC_MIME_TYPE]};\n",
       "      render(props, toinsert[toinsert.length - 1]);\n",
       "      element.append(toinsert);\n",
       "      return toinsert\n",
       "    }\n",
       "\n",
       "    /* Handle when an output is cleared or removed */\n",
       "    events.on('clear_output.CodeCell', handleClearOutput);\n",
       "    events.on('delete.Cell', handleClearOutput);\n",
       "\n",
       "    /* Handle when a new output is added */\n",
       "    events.on('output_added.OutputArea', handleAddOutput);\n",
       "\n",
       "    /**\n",
       "     * Register the mime type and append_mime function with output_area\n",
       "     */\n",
       "    OutputArea.prototype.register_mime_type(EXEC_MIME_TYPE, append_mime, {\n",
       "      /* Is output safe? */\n",
       "      safe: true,\n",
       "      /* Index of renderer in `output_area.display_order` */\n",
       "      index: 0\n",
       "    });\n",
       "  }\n",
       "\n",
       "  // register the mime type if in Jupyter Notebook environment and previously unregistered\n",
       "  if (root.Jupyter !== undefined) {\n",
       "    var events = require('base/js/events');\n",
       "    var OutputArea = require('notebook/js/outputarea').OutputArea;\n",
       "\n",
       "    if (OutputArea.prototype.mime_types().indexOf(EXEC_MIME_TYPE) == -1) {\n",
       "      register_renderer(events, OutputArea);\n",
       "    }\n",
       "  }\n",
       "\n",
       "  \n",
       "  if (typeof (root._bokeh_timeout) === \"undefined\" || force === true) {\n",
       "    root._bokeh_timeout = Date.now() + 5000;\n",
       "    root._bokeh_failed_load = false;\n",
       "  }\n",
       "\n",
       "  var NB_LOAD_WARNING = {'data': {'text/html':\n",
       "     \"<div style='background-color: #fdd'>\\n\"+\n",
       "     \"<p>\\n\"+\n",
       "     \"BokehJS does not appear to have successfully loaded. If loading BokehJS from CDN, this \\n\"+\n",
       "     \"may be due to a slow or bad network connection. Possible fixes:\\n\"+\n",
       "     \"</p>\\n\"+\n",
       "     \"<ul>\\n\"+\n",
       "     \"<li>re-rerun `output_notebook()` to attempt to load from CDN again, or</li>\\n\"+\n",
       "     \"<li>use INLINE resources instead, as so:</li>\\n\"+\n",
       "     \"</ul>\\n\"+\n",
       "     \"<code>\\n\"+\n",
       "     \"from bokeh.resources import INLINE\\n\"+\n",
       "     \"output_notebook(resources=INLINE)\\n\"+\n",
       "     \"</code>\\n\"+\n",
       "     \"</div>\"}};\n",
       "\n",
       "  function display_loaded() {\n",
       "    var el = document.getElementById(\"1403\");\n",
       "    if (el != null) {\n",
       "      el.textContent = \"BokehJS is loading...\";\n",
       "    }\n",
       "    if (root.Bokeh !== undefined) {\n",
       "      if (el != null) {\n",
       "        el.textContent = \"BokehJS \" + root.Bokeh.version + \" successfully loaded.\";\n",
       "      }\n",
       "    } else if (Date.now() < root._bokeh_timeout) {\n",
       "      setTimeout(display_loaded, 100)\n",
       "    }\n",
       "  }\n",
       "\n",
       "\n",
       "  function run_callbacks() {\n",
       "    try {\n",
       "      root._bokeh_onload_callbacks.forEach(function(callback) {\n",
       "        if (callback != null)\n",
       "          callback();\n",
       "      });\n",
       "    } finally {\n",
       "      delete root._bokeh_onload_callbacks\n",
       "    }\n",
       "    console.debug(\"Bokeh: all callbacks have finished\");\n",
       "  }\n",
       "\n",
       "  function load_libs(css_urls, js_urls, callback) {\n",
       "    if (css_urls == null) css_urls = [];\n",
       "    if (js_urls == null) js_urls = [];\n",
       "\n",
       "    root._bokeh_onload_callbacks.push(callback);\n",
       "    if (root._bokeh_is_loading > 0) {\n",
       "      console.debug(\"Bokeh: BokehJS is being loaded, scheduling callback at\", now());\n",
       "      return null;\n",
       "    }\n",
       "    if (js_urls == null || js_urls.length === 0) {\n",
       "      run_callbacks();\n",
       "      return null;\n",
       "    }\n",
       "    console.debug(\"Bokeh: BokehJS not loaded, scheduling load and callback at\", now());\n",
       "    root._bokeh_is_loading = css_urls.length + js_urls.length;\n",
       "\n",
       "    function on_load() {\n",
       "      root._bokeh_is_loading--;\n",
       "      if (root._bokeh_is_loading === 0) {\n",
       "        console.debug(\"Bokeh: all BokehJS libraries/stylesheets loaded\");\n",
       "        run_callbacks()\n",
       "      }\n",
       "    }\n",
       "\n",
       "    function on_error() {\n",
       "      console.error(\"failed to load \" + url);\n",
       "    }\n",
       "\n",
       "    for (var i = 0; i < css_urls.length; i++) {\n",
       "      var url = css_urls[i];\n",
       "      const element = document.createElement(\"link\");\n",
       "      element.onload = on_load;\n",
       "      element.onerror = on_error;\n",
       "      element.rel = \"stylesheet\";\n",
       "      element.type = \"text/css\";\n",
       "      element.href = url;\n",
       "      console.debug(\"Bokeh: injecting link tag for BokehJS stylesheet: \", url);\n",
       "      document.body.appendChild(element);\n",
       "    }\n",
       "\n",
       "    for (var i = 0; i < js_urls.length; i++) {\n",
       "      var url = js_urls[i];\n",
       "      var element = document.createElement('script');\n",
       "      element.onload = on_load;\n",
       "      element.onerror = on_error;\n",
       "      element.async = false;\n",
       "      element.src = url;\n",
       "      \n",
       "      console.debug(\"Bokeh: injecting script tag for BokehJS library: \", url);\n",
       "      document.head.appendChild(element);\n",
       "    }\n",
       "  };var element = document.getElementById(\"1403\");\n",
       "  if (element == null) {\n",
       "    console.error(\"Bokeh: ERROR: autoload.js configured with elementid '1403' but no matching script tag was found. \")\n",
       "    return false;\n",
       "  }\n",
       "\n",
       "  function inject_raw_css(css) {\n",
       "    const element = document.createElement(\"style\");\n",
       "    element.appendChild(document.createTextNode(css));\n",
       "    document.body.appendChild(element);\n",
       "  }\n",
       "\n",
       "  \n",
       "  var js_urls = [\"https://cdn.bokeh.org/bokeh/release/bokeh-2.0.0.min.js\", \"https://cdn.bokeh.org/bokeh/release/bokeh-widgets-2.0.0.min.js\", \"https://cdn.bokeh.org/bokeh/release/bokeh-tables-2.0.0.min.js\", \"https://cdn.bokeh.org/bokeh/release/bokeh-gl-2.0.0.min.js\"];\n",
       "  var css_urls = [];\n",
       "  \n",
       "\n",
       "  var inline_js = [\n",
       "    function(Bokeh) {\n",
       "      Bokeh.set_log_level(\"info\");\n",
       "    },\n",
       "    function(Bokeh) {\n",
       "    \n",
       "    \n",
       "    }\n",
       "  ];\n",
       "\n",
       "  function run_inline_js() {\n",
       "    \n",
       "    if (root.Bokeh !== undefined || force === true) {\n",
       "      \n",
       "    for (var i = 0; i < inline_js.length; i++) {\n",
       "      inline_js[i].call(root, root.Bokeh);\n",
       "    }\n",
       "    if (force === true) {\n",
       "        display_loaded();\n",
       "      }} else if (Date.now() < root._bokeh_timeout) {\n",
       "      setTimeout(run_inline_js, 100);\n",
       "    } else if (!root._bokeh_failed_load) {\n",
       "      console.log(\"Bokeh: BokehJS failed to load within specified timeout.\");\n",
       "      root._bokeh_failed_load = true;\n",
       "    } else if (force !== true) {\n",
       "      var cell = $(document.getElementById(\"1403\")).parents('.cell').data().cell;\n",
       "      cell.output_area.append_execute_result(NB_LOAD_WARNING)\n",
       "    }\n",
       "\n",
       "  }\n",
       "\n",
       "  if (root._bokeh_is_loading === 0) {\n",
       "    console.debug(\"Bokeh: BokehJS loaded, going straight to plotting\");\n",
       "    run_inline_js();\n",
       "  } else {\n",
       "    load_libs(css_urls, js_urls, function() {\n",
       "      console.debug(\"Bokeh: BokehJS plotting callback run at\", now());\n",
       "      run_inline_js();\n",
       "    });\n",
       "  }\n",
       "}(window));"
      ],
      "application/vnd.bokehjs_load.v0+json": "\n(function(root) {\n  function now() {\n    return new Date();\n  }\n\n  var force = true;\n\n  if (typeof root._bokeh_onload_callbacks === \"undefined\" || force === true) {\n    root._bokeh_onload_callbacks = [];\n    root._bokeh_is_loading = undefined;\n  }\n\n  \n\n  \n  if (typeof (root._bokeh_timeout) === \"undefined\" || force === true) {\n    root._bokeh_timeout = Date.now() + 5000;\n    root._bokeh_failed_load = false;\n  }\n\n  var NB_LOAD_WARNING = {'data': {'text/html':\n     \"<div style='background-color: #fdd'>\\n\"+\n     \"<p>\\n\"+\n     \"BokehJS does not appear to have successfully loaded. If loading BokehJS from CDN, this \\n\"+\n     \"may be due to a slow or bad network connection. Possible fixes:\\n\"+\n     \"</p>\\n\"+\n     \"<ul>\\n\"+\n     \"<li>re-rerun `output_notebook()` to attempt to load from CDN again, or</li>\\n\"+\n     \"<li>use INLINE resources instead, as so:</li>\\n\"+\n     \"</ul>\\n\"+\n     \"<code>\\n\"+\n     \"from bokeh.resources import INLINE\\n\"+\n     \"output_notebook(resources=INLINE)\\n\"+\n     \"</code>\\n\"+\n     \"</div>\"}};\n\n  function display_loaded() {\n    var el = document.getElementById(\"1403\");\n    if (el != null) {\n      el.textContent = \"BokehJS is loading...\";\n    }\n    if (root.Bokeh !== undefined) {\n      if (el != null) {\n        el.textContent = \"BokehJS \" + root.Bokeh.version + \" successfully loaded.\";\n      }\n    } else if (Date.now() < root._bokeh_timeout) {\n      setTimeout(display_loaded, 100)\n    }\n  }\n\n\n  function run_callbacks() {\n    try {\n      root._bokeh_onload_callbacks.forEach(function(callback) {\n        if (callback != null)\n          callback();\n      });\n    } finally {\n      delete root._bokeh_onload_callbacks\n    }\n    console.debug(\"Bokeh: all callbacks have finished\");\n  }\n\n  function load_libs(css_urls, js_urls, callback) {\n    if (css_urls == null) css_urls = [];\n    if (js_urls == null) js_urls = [];\n\n    root._bokeh_onload_callbacks.push(callback);\n    if (root._bokeh_is_loading > 0) {\n      console.debug(\"Bokeh: BokehJS is being loaded, scheduling callback at\", now());\n      return null;\n    }\n    if (js_urls == null || js_urls.length === 0) {\n      run_callbacks();\n      return null;\n    }\n    console.debug(\"Bokeh: BokehJS not loaded, scheduling load and callback at\", now());\n    root._bokeh_is_loading = css_urls.length + js_urls.length;\n\n    function on_load() {\n      root._bokeh_is_loading--;\n      if (root._bokeh_is_loading === 0) {\n        console.debug(\"Bokeh: all BokehJS libraries/stylesheets loaded\");\n        run_callbacks()\n      }\n    }\n\n    function on_error() {\n      console.error(\"failed to load \" + url);\n    }\n\n    for (var i = 0; i < css_urls.length; i++) {\n      var url = css_urls[i];\n      const element = document.createElement(\"link\");\n      element.onload = on_load;\n      element.onerror = on_error;\n      element.rel = \"stylesheet\";\n      element.type = \"text/css\";\n      element.href = url;\n      console.debug(\"Bokeh: injecting link tag for BokehJS stylesheet: \", url);\n      document.body.appendChild(element);\n    }\n\n    for (var i = 0; i < js_urls.length; i++) {\n      var url = js_urls[i];\n      var element = document.createElement('script');\n      element.onload = on_load;\n      element.onerror = on_error;\n      element.async = false;\n      element.src = url;\n      \n      console.debug(\"Bokeh: injecting script tag for BokehJS library: \", url);\n      document.head.appendChild(element);\n    }\n  };var element = document.getElementById(\"1403\");\n  if (element == null) {\n    console.error(\"Bokeh: ERROR: autoload.js configured with elementid '1403' but no matching script tag was found. \")\n    return false;\n  }\n\n  function inject_raw_css(css) {\n    const element = document.createElement(\"style\");\n    element.appendChild(document.createTextNode(css));\n    document.body.appendChild(element);\n  }\n\n  \n  var js_urls = [\"https://cdn.bokeh.org/bokeh/release/bokeh-2.0.0.min.js\", \"https://cdn.bokeh.org/bokeh/release/bokeh-widgets-2.0.0.min.js\", \"https://cdn.bokeh.org/bokeh/release/bokeh-tables-2.0.0.min.js\", \"https://cdn.bokeh.org/bokeh/release/bokeh-gl-2.0.0.min.js\"];\n  var css_urls = [];\n  \n\n  var inline_js = [\n    function(Bokeh) {\n      Bokeh.set_log_level(\"info\");\n    },\n    function(Bokeh) {\n    \n    \n    }\n  ];\n\n  function run_inline_js() {\n    \n    if (root.Bokeh !== undefined || force === true) {\n      \n    for (var i = 0; i < inline_js.length; i++) {\n      inline_js[i].call(root, root.Bokeh);\n    }\n    if (force === true) {\n        display_loaded();\n      }} else if (Date.now() < root._bokeh_timeout) {\n      setTimeout(run_inline_js, 100);\n    } else if (!root._bokeh_failed_load) {\n      console.log(\"Bokeh: BokehJS failed to load within specified timeout.\");\n      root._bokeh_failed_load = true;\n    } else if (force !== true) {\n      var cell = $(document.getElementById(\"1403\")).parents('.cell').data().cell;\n      cell.output_area.append_execute_result(NB_LOAD_WARNING)\n    }\n\n  }\n\n  if (root._bokeh_is_loading === 0) {\n    console.debug(\"Bokeh: BokehJS loaded, going straight to plotting\");\n    run_inline_js();\n  } else {\n    load_libs(css_urls, js_urls, function() {\n      console.debug(\"Bokeh: BokehJS plotting callback run at\", now());\n      run_inline_js();\n    });\n  }\n}(window));"
     },
     "metadata": {},
     "output_type": "display_data"
    },
    {
     "data": {
      "text/html": [
       "\n",
       "\n",
       "\n",
       "\n",
       "\n",
       "\n",
       "  <div class=\"bk-root\" id=\"1ff9572d-7fc2-4d78-a6fe-326573e83dcb\" data-root-id=\"1404\"></div>\n"
      ]
     },
     "metadata": {},
     "output_type": "display_data"
    },
    {
     "data": {
      "application/javascript": [
       "(function(root) {\n",
       "  function embed_document(root) {\n",
       "    \n",
       "  var docs_json = {\"fafaba80-8d52-48b1-a1f3-6f9b7a1e3623\":{\"roots\":{\"references\":[{\"attributes\":{\"below\":[{\"id\":\"1415\"}],\"center\":[{\"id\":\"1417\"},{\"id\":\"1421\"}],\"left\":[{\"id\":\"1418\"}],\"plot_width\":900,\"renderers\":[{\"id\":\"1438\"}],\"title\":{\"id\":\"1405\"},\"toolbar\":{\"id\":\"1428\"},\"toolbar_location\":null,\"x_range\":{\"id\":\"1407\"},\"x_scale\":{\"id\":\"1411\"},\"y_range\":{\"id\":\"1409\"},\"y_scale\":{\"id\":\"1413\"}},\"id\":\"1404\",\"subtype\":\"Figure\",\"type\":\"Plot\"},{\"attributes\":{\"active_drag\":\"auto\",\"active_inspect\":\"auto\",\"active_multi\":null,\"active_scroll\":\"auto\",\"active_tap\":\"auto\",\"logo\":null,\"tools\":[{\"id\":\"1441\"}]},\"id\":\"1428\",\"type\":\"Toolbar\"},{\"attributes\":{\"data\":{\"top\":[1,1,1,1,1,1,1,2,2,3,4,5,5,9,11,16,41,123,159],\"x\":[\"Evoia\",\"Katerini\",\"Mitilini\",\"Xania\",\"Kilkis\",\"Kalamata\",\"Volos\",\"Ioannina\",\"Larisa\",\"Patra\",\"Kozani\",\"Hrakleio\",\"Zakinthos\",\"Axaia\",\"Thessaloniki\",\"Kastoria\",\"Hleia\",\"Unknown\",\"Athens\"]},\"selected\":{\"id\":\"1478\"},\"selection_policy\":{\"id\":\"1477\"}},\"id\":\"1435\",\"type\":\"ColumnDataSource\"},{\"attributes\":{},\"id\":\"1478\",\"type\":\"Selection\"},{\"attributes\":{\"fill_alpha\":{\"value\":0.1},\"fill_color\":{\"value\":\"#1f77b4\"},\"line_alpha\":{\"value\":0.1},\"line_color\":{\"value\":\"#1f77b4\"},\"top\":{\"field\":\"top\"},\"width\":{\"value\":0.9},\"x\":{\"field\":\"x\"}},\"id\":\"1437\",\"type\":\"VBar\"},{\"attributes\":{\"start\":0},\"id\":\"1409\",\"type\":\"DataRange1d\"},{\"attributes\":{\"axis_label\":\"City\",\"formatter\":{\"id\":\"1474\"},\"ticker\":{\"id\":\"1416\"}},\"id\":\"1415\",\"type\":\"CategoricalAxis\"},{\"attributes\":{\"text\":\"\\u039c\\u03bf\\u03bb\\u03cd\\u03bd\\u03c3\\u03b5\\u03b9\\u03c2 \\u03b1\\u03bd\\u03ac \\u03c0\\u03cc\\u03bb\\u03b7\"},\"id\":\"1405\",\"type\":\"Title\"},{\"attributes\":{\"factors\":[\"Evoia\",\"Katerini\",\"Mitilini\",\"Xania\",\"Kilkis\",\"Kalamata\",\"Volos\",\"Ioannina\",\"Larisa\",\"Patra\",\"Kozani\",\"Hrakleio\",\"Zakinthos\",\"Axaia\",\"Thessaloniki\",\"Kastoria\",\"Hleia\",\"Unknown\",\"Athens\"]},\"id\":\"1407\",\"type\":\"FactorRange\"},{\"attributes\":{},\"id\":\"1413\",\"type\":\"LinearScale\"},{\"attributes\":{},\"id\":\"1416\",\"type\":\"CategoricalTicker\"},{\"attributes\":{},\"id\":\"1477\",\"type\":\"UnionRenderers\"},{\"attributes\":{\"axis\":{\"id\":\"1418\"},\"dimension\":1,\"ticker\":null},\"id\":\"1421\",\"type\":\"Grid\"},{\"attributes\":{\"data_source\":{\"id\":\"1435\"},\"glyph\":{\"id\":\"1436\"},\"hover_glyph\":null,\"muted_glyph\":null,\"nonselection_glyph\":{\"id\":\"1437\"},\"selection_glyph\":null,\"view\":{\"id\":\"1439\"}},\"id\":\"1438\",\"type\":\"GlyphRenderer\"},{\"attributes\":{\"axis\":{\"id\":\"1415\"},\"grid_line_color\":null,\"ticker\":null},\"id\":\"1417\",\"type\":\"Grid\"},{\"attributes\":{\"fill_color\":{\"value\":\"#1f77b4\"},\"line_color\":{\"value\":\"#1f77b4\"},\"top\":{\"field\":\"top\"},\"width\":{\"value\":0.9},\"x\":{\"field\":\"x\"}},\"id\":\"1436\",\"type\":\"VBar\"},{\"attributes\":{},\"id\":\"1474\",\"type\":\"CategoricalTickFormatter\"},{\"attributes\":{},\"id\":\"1419\",\"type\":\"BasicTicker\"},{\"attributes\":{\"axis_label\":\"\\u0391\\u03c1\\u03b9\\u03b8\\u03bc\\u03cc\\u03c2 \\u039c\\u03bf\\u03bb\\u03c5\\u03c3\\u03bc\\u03ad\\u03bd\\u03c9\\u03bd\",\"formatter\":{\"id\":\"1476\"},\"ticker\":{\"id\":\"1419\"}},\"id\":\"1418\",\"type\":\"LinearAxis\"},{\"attributes\":{},\"id\":\"1476\",\"type\":\"BasicTickFormatter\"},{\"attributes\":{},\"id\":\"1411\",\"type\":\"CategoricalScale\"},{\"attributes\":{\"source\":{\"id\":\"1435\"}},\"id\":\"1439\",\"type\":\"CDSView\"},{\"attributes\":{\"callback\":null,\"tooltips\":[[\"City\",\"@x\"],[\"Infected\",\"@top\"]]},\"id\":\"1441\",\"type\":\"HoverTool\"}],\"root_ids\":[\"1404\"]},\"title\":\"Bokeh Application\",\"version\":\"2.0.0\"}};\n",
       "  var render_items = [{\"docid\":\"fafaba80-8d52-48b1-a1f3-6f9b7a1e3623\",\"root_ids\":[\"1404\"],\"roots\":{\"1404\":\"1ff9572d-7fc2-4d78-a6fe-326573e83dcb\"}}];\n",
       "  root.Bokeh.embed.embed_items_notebook(docs_json, render_items);\n",
       "\n",
       "  }\n",
       "  if (root.Bokeh !== undefined) {\n",
       "    embed_document(root);\n",
       "  } else {\n",
       "    var attempts = 0;\n",
       "    var timer = setInterval(function(root) {\n",
       "      if (root.Bokeh !== undefined) {\n",
       "        clearInterval(timer);\n",
       "        embed_document(root);\n",
       "      } else {\n",
       "        attempts++;\n",
       "        if (attempts > 100) {\n",
       "          clearInterval(timer);\n",
       "          console.log(\"Bokeh: ERROR: Unable to run BokehJS code because BokehJS library is missing\");\n",
       "        }\n",
       "      }\n",
       "    }, 10, root)\n",
       "  }\n",
       "})(window);"
      ],
      "application/vnd.bokehjs_exec.v0+json": ""
     },
     "metadata": {
      "application/vnd.bokehjs_exec.v0+json": {
       "id": "1404"
      }
     },
     "output_type": "display_data"
    }
   ],
   "source": [
    "import pandas as pd\n",
    "from bokeh.plotting import figure\n",
    "from bokeh.models import HoverTool\n",
    "from bokeh.io import show, output_notebook\n",
    "from bokeh.layouts import row\n",
    "\n",
    "output_notebook()\n",
    "\n",
    "names = [\"city\", \"latitude\", \"longitude\", \"infections\"]\n",
    "df = pd.read_csv(\n",
    "    'cities.csv',\n",
    "    names=names,\n",
    ")\n",
    "\n",
    "data = df.loc[:, ['city', 'infections']]\n",
    "data = data.sort_values(ascending=True, by=['infections'])\n",
    "\n",
    "p = figure(x_range=data['city'], title=\"Μολύνσεις ανά πόλη\",\n",
    "           x_axis_label=\"City\", y_axis_label=\"Αριθμός Μολυσμένων\", width=900)\n",
    "\n",
    "p.vbar(x=data['city'], top=data['infections'], width=0.9)\n",
    "p.tools = [] # disable zoom / pan\n",
    "p.add_tools(HoverTool(tooltips=[(\"City\", \"@x\"), (\"Infected\", \"@top\")]))\n",
    "p.xgrid.grid_line_color = None\n",
    "p.y_range.start = 0\n",
    "p.toolbar.logo = None\n",
    "p.toolbar_location = None\n",
    "\n",
    "\n",
    "show(p)"
   ]
  },
  {
   "cell_type": "markdown",
   "metadata": {},
   "source": [
    "## Visualize in a Map"
   ]
  },
  {
   "cell_type": "code",
   "execution_count": 9,
   "metadata": {},
   "outputs": [
    {
     "data": {
      "text/html": [
       "<div style=\"width:100%;\"><div style=\"position:relative;width:100%;height:0;padding-bottom:60%;\"><iframe src=\"about:blank\" style=\"position:absolute;width:100%;height:100%;left:0;top:0;border:none !important;\" data-html=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 onload=\"this.contentDocument.open();this.contentDocument.write(atob(this.getAttribute('data-html')));this.contentDocument.close();\" allowfullscreen webkitallowfullscreen mozallowfullscreen></iframe></div></div>"
      ],
      "text/plain": [
       "<folium.folium.Map at 0x11bdb4650>"
      ]
     },
     "execution_count": 9,
     "metadata": {},
     "output_type": "execute_result"
    }
   ],
   "source": [
    "import folium\n",
    "\n",
    "MAGNIFICATION = 100\n",
    "\n",
    "# map centered at Athens\n",
    "map = folium.Map(\n",
    "    location=[37.9838, 23.7275],\n",
    "    width=750,\n",
    "    height=750\n",
    ")\n",
    "\n",
    "for i, city in df.dropna().iterrows():\n",
    "    # add a tooltip showing the number of infections on top\n",
    "    popup = folium.Popup(str(city[\"infections\"]), sticky=True, show=True)\n",
    "    folium.Circle(\n",
    "        location=[\n",
    "            city[\"latitude\"],\n",
    "            city[\"longitude\"]\n",
    "        ],\n",
    "        radius=city[\"infections\"] * MAGNIFICATION,\n",
    "        color=\"red\",\n",
    "        sticky=True,\n",
    "        show=True,\n",
    "        fill=True,  # Set fill to True\n",
    "        fill_opacity=0.7\n",
    "    ).add_child(popup).add_to(map)\n",
    "\n",
    "sw = df[['latitude', 'longitude']].min().values.tolist()\n",
    "ne = df[['latitude', 'longitude']].max().values.tolist()\n",
    "map.fit_bounds([sw, ne])\n",
    "\n",
    "map"
   ]
  },
  {
   "cell_type": "markdown",
   "metadata": {},
   "source": [
    "# Predictions\n",
    "\n",
    "We fit the data to a Sigmoid curve"
   ]
  },
  {
   "cell_type": "code",
   "execution_count": 10,
   "metadata": {},
   "outputs": [
    {
     "data": {
      "text/html": [
       "\n",
       "\n",
       "\n",
       "\n",
       "\n",
       "\n",
       "  <div class=\"bk-root\" id=\"400d605a-b4e9-4e16-bc8e-5b7b6d34b6bf\" data-root-id=\"1599\"></div>\n"
      ]
     },
     "metadata": {},
     "output_type": "display_data"
    },
    {
     "data": {
      "application/javascript": [
       "(function(root) {\n",
       "  function embed_document(root) {\n",
       "    \n",
       "  var docs_json = {\"44a6e98b-d80d-4692-a3f0-91466c0fb2bc\":{\"roots\":{\"references\":[{\"attributes\":{\"children\":[{\"id\":\"1521\"},{\"id\":\"1558\"}]},\"id\":\"1599\",\"type\":\"Row\"},{\"attributes\":{\"callback\":null,\"tooltips\":[[\"Date\",\"@x\"],[\"Total Infected\",\"@y\"]]},\"id\":\"1597\",\"type\":\"HoverTool\"},{\"attributes\":{},\"id\":\"1582\",\"type\":\"HelpTool\"},{\"attributes\":{\"active_drag\":\"auto\",\"active_inspect\":\"auto\",\"active_multi\":null,\"active_scroll\":\"auto\",\"active_tap\":\"auto\",\"tools\":[{\"id\":\"1577\"},{\"id\":\"1578\"},{\"id\":\"1579\"},{\"id\":\"1580\"},{\"id\":\"1581\"},{\"id\":\"1582\"},{\"id\":\"1597\"}]},\"id\":\"1583\",\"type\":\"Toolbar\"},{\"attributes\":{\"source\":{\"id\":\"1590\"}},\"id\":\"1594\",\"type\":\"CDSView\"},{\"attributes\":{\"data\":{\"x\":{\"__ndarray__\":\"AACAsOwHd0IAAEAWPwh3QgAAAHyRCHdCAADA4eMId0IAAMB4LQp3QgAAgN5/CndCAABARNIKd0IAAACqJAt3QgAAwA93C3dCAACAdckLd0IAAEDbGwx3QgAAAEFuDHdCAADApsAMd0IAAIAMEw13QgAAQHJlDXdCAAAA2LcNd0IAAMA9Cg53QgAAgKNcDndC\",\"dtype\":\"float64\",\"shape\":[18]},\"y\":[1,2,1,3,3,21,14,21,7,11,5,10,18,73,38,103,21,35]},\"selected\":{\"id\":\"1647\"},\"selection_policy\":{\"id\":\"1646\"}},\"id\":\"1553\",\"type\":\"ColumnDataSource\"},{\"attributes\":{},\"id\":\"1638\",\"type\":\"DatetimeTickFormatter\"},{\"attributes\":{},\"id\":\"1640\",\"type\":\"BasicTickFormatter\"},{\"attributes\":{},\"id\":\"1642\",\"type\":\"DatetimeTickFormatter\"},{\"attributes\":{},\"id\":\"1644\",\"type\":\"BasicTickFormatter\"},{\"attributes\":{\"bottom_units\":\"screen\",\"fill_alpha\":0.5,\"fill_color\":\"lightgrey\",\"left_units\":\"screen\",\"level\":\"overlay\",\"line_alpha\":1.0,\"line_color\":\"black\",\"line_dash\":[4,4],\"line_width\":2,\"render_mode\":\"css\",\"right_units\":\"screen\",\"top_units\":\"screen\"},\"id\":\"1645\",\"type\":\"BoxAnnotation\"},{\"attributes\":{},\"id\":\"1646\",\"type\":\"UnionRenderers\"},{\"attributes\":{},\"id\":\"1647\",\"type\":\"Selection\"},{\"attributes\":{\"mantissas\":[1,2,5],\"max_interval\":500.0,\"num_minor_ticks\":0},\"id\":\"1648\",\"type\":\"AdaptiveTicker\"},{\"attributes\":{\"base\":24,\"mantissas\":[1,2,4,6,8,12],\"max_interval\":43200000.0,\"min_interval\":3600000.0,\"num_minor_ticks\":0},\"id\":\"1650\",\"type\":\"AdaptiveTicker\"},{\"attributes\":{\"base\":60,\"mantissas\":[1,2,5,10,15,20,30],\"max_interval\":1800000.0,\"min_interval\":1000.0,\"num_minor_ticks\":0},\"id\":\"1649\",\"type\":\"AdaptiveTicker\"},{\"attributes\":{\"days\":[1,2,3,4,5,6,7,8,9,10,11,12,13,14,15,16,17,18,19,20,21,22,23,24,25,26,27,28,29,30,31]},\"id\":\"1651\",\"type\":\"DaysTicker\"},{\"attributes\":{\"below\":[{\"id\":\"1569\"}],\"center\":[{\"id\":\"1572\"},{\"id\":\"1576\"}],\"left\":[{\"id\":\"1573\"}],\"renderers\":[{\"id\":\"1593\"}],\"title\":{\"id\":\"1559\"},\"toolbar\":{\"id\":\"1583\"},\"x_range\":{\"id\":\"1561\"},\"x_scale\":{\"id\":\"1565\"},\"y_range\":{\"id\":\"1563\"},\"y_scale\":{\"id\":\"1567\"}},\"id\":\"1558\",\"subtype\":\"Figure\",\"type\":\"Plot\"},{\"attributes\":{\"days\":[1,4,7,10,13,16,19,22,25,28]},\"id\":\"1652\",\"type\":\"DaysTicker\"},{\"attributes\":{\"days\":[1,8,15,22]},\"id\":\"1653\",\"type\":\"DaysTicker\"},{\"attributes\":{\"days\":[1,15]},\"id\":\"1654\",\"type\":\"DaysTicker\"},{\"attributes\":{\"axis_label\":\"Date\",\"formatter\":{\"id\":\"1638\"},\"ticker\":{\"id\":\"1533\"}},\"id\":\"1532\",\"type\":\"DatetimeAxis\"},{\"attributes\":{\"axis_label\":\"Number infected\",\"formatter\":{\"id\":\"1640\"},\"ticker\":{\"id\":\"1537\"}},\"id\":\"1536\",\"type\":\"LinearAxis\"},{\"attributes\":{\"months\":[0,1,2,3,4,5,6,7,8,9,10,11]},\"id\":\"1655\",\"type\":\"MonthsTicker\"},{\"attributes\":{\"months\":[0,2,4,6,8,10]},\"id\":\"1656\",\"type\":\"MonthsTicker\"},{\"attributes\":{\"months\":[0,4,8]},\"id\":\"1657\",\"type\":\"MonthsTicker\"},{\"attributes\":{\"months\":[0,6]},\"id\":\"1658\",\"type\":\"MonthsTicker\"},{\"attributes\":{},\"id\":\"1661\",\"type\":\"UnionRenderers\"},{\"attributes\":{},\"id\":\"1659\",\"type\":\"YearsTicker\"},{\"attributes\":{},\"id\":\"1537\",\"type\":\"BasicTicker\"},{\"attributes\":{\"bottom_units\":\"screen\",\"fill_alpha\":0.5,\"fill_color\":\"lightgrey\",\"left_units\":\"screen\",\"level\":\"overlay\",\"line_alpha\":1.0,\"line_color\":\"black\",\"line_dash\":[4,4],\"line_width\":2,\"render_mode\":\"css\",\"right_units\":\"screen\",\"top_units\":\"screen\"},\"id\":\"1660\",\"type\":\"BoxAnnotation\"},{\"attributes\":{},\"id\":\"1662\",\"type\":\"Selection\"},{\"attributes\":{\"mantissas\":[1,2,5],\"max_interval\":500.0,\"num_minor_ticks\":0},\"id\":\"1663\",\"type\":\"AdaptiveTicker\"},{\"attributes\":{\"active_drag\":\"auto\",\"active_inspect\":\"auto\",\"active_multi\":null,\"active_scroll\":\"auto\",\"active_tap\":\"auto\",\"tools\":[{\"id\":\"1540\"},{\"id\":\"1541\"},{\"id\":\"1542\"},{\"id\":\"1543\"},{\"id\":\"1544\"},{\"id\":\"1545\"},{\"id\":\"1595\"}]},\"id\":\"1546\",\"type\":\"Toolbar\"},{\"attributes\":{},\"id\":\"1545\",\"type\":\"HelpTool\"},{\"attributes\":{\"overlay\":{\"id\":\"1645\"}},\"id\":\"1542\",\"type\":\"BoxZoomTool\"},{\"attributes\":{},\"id\":\"1541\",\"type\":\"WheelZoomTool\"},{\"attributes\":{\"base\":24,\"mantissas\":[1,2,4,6,8,12],\"max_interval\":43200000.0,\"min_interval\":3600000.0,\"num_minor_ticks\":0},\"id\":\"1665\",\"type\":\"AdaptiveTicker\"},{\"attributes\":{\"base\":60,\"mantissas\":[1,2,5,10,15,20,30],\"max_interval\":1800000.0,\"min_interval\":1000.0,\"num_minor_ticks\":0},\"id\":\"1664\",\"type\":\"AdaptiveTicker\"},{\"attributes\":{},\"id\":\"1540\",\"type\":\"PanTool\"},{\"attributes\":{},\"id\":\"1565\",\"type\":\"LinearScale\"},{\"attributes\":{},\"id\":\"1543\",\"type\":\"SaveTool\"},{\"attributes\":{\"days\":[1,2,3,4,5,6,7,8,9,10,11,12,13,14,15,16,17,18,19,20,21,22,23,24,25,26,27,28,29,30,31]},\"id\":\"1666\",\"type\":\"DaysTicker\"},{\"attributes\":{\"days\":[1,4,7,10,13,16,19,22,25,28]},\"id\":\"1667\",\"type\":\"DaysTicker\"},{\"attributes\":{\"days\":[1,8,15,22]},\"id\":\"1668\",\"type\":\"DaysTicker\"},{\"attributes\":{},\"id\":\"1544\",\"type\":\"ResetTool\"},{\"attributes\":{\"days\":[1,15]},\"id\":\"1669\",\"type\":\"DaysTicker\"},{\"attributes\":{\"months\":[0,1,2,3,4,5,6,7,8,9,10,11]},\"id\":\"1670\",\"type\":\"MonthsTicker\"},{\"attributes\":{\"months\":[0,2,4,6,8,10]},\"id\":\"1671\",\"type\":\"MonthsTicker\"},{\"attributes\":{\"source\":{\"id\":\"1553\"}},\"id\":\"1557\",\"type\":\"CDSView\"},{\"attributes\":{\"months\":[0,4,8]},\"id\":\"1672\",\"type\":\"MonthsTicker\"},{\"attributes\":{\"data_source\":{\"id\":\"1553\"},\"glyph\":{\"id\":\"1554\"},\"hover_glyph\":null,\"muted_glyph\":null,\"nonselection_glyph\":{\"id\":\"1555\"},\"selection_glyph\":null,\"view\":{\"id\":\"1557\"}},\"id\":\"1556\",\"type\":\"GlyphRenderer\"},{\"attributes\":{\"months\":[0,6]},\"id\":\"1673\",\"type\":\"MonthsTicker\"},{\"attributes\":{\"below\":[{\"id\":\"1532\"}],\"center\":[{\"id\":\"1535\"},{\"id\":\"1539\"}],\"left\":[{\"id\":\"1536\"}],\"renderers\":[{\"id\":\"1556\"}],\"title\":{\"id\":\"1522\"},\"toolbar\":{\"id\":\"1546\"},\"x_range\":{\"id\":\"1524\"},\"x_scale\":{\"id\":\"1528\"},\"y_range\":{\"id\":\"1526\"},\"y_scale\":{\"id\":\"1530\"}},\"id\":\"1521\",\"subtype\":\"Figure\",\"type\":\"Plot\"},{\"attributes\":{\"text\":\"\\u03a3\\u03c5\\u03bd\\u03bf\\u03bb\\u03b9\\u03ba\\u03ad\\u03c2 \\u039c\\u03bf\\u03bb\\u03cd\\u03bd\\u03c3\\u03b5\\u03b9\\u03c2\"},\"id\":\"1559\",\"type\":\"Title\"},{\"attributes\":{\"text\":\"\\u039c\\u03bf\\u03bb\\u03cd\\u03bd\\u03c3\\u03b5\\u03b9\\u03c2 \\u03b1\\u03bd\\u03ac \\u03b7\\u03bc\\u03ad\\u03c1\\u03b1\"},\"id\":\"1522\",\"type\":\"Title\"},{\"attributes\":{\"line_color\":\"#1f77b4\",\"x\":{\"field\":\"x\"},\"y\":{\"field\":\"y\"}},\"id\":\"1591\",\"type\":\"Line\"},{\"attributes\":{},\"id\":\"1674\",\"type\":\"YearsTicker\"},{\"attributes\":{},\"id\":\"1561\",\"type\":\"DataRange1d\"},{\"attributes\":{\"num_minor_ticks\":5,\"tickers\":[{\"id\":\"1648\"},{\"id\":\"1649\"},{\"id\":\"1650\"},{\"id\":\"1651\"},{\"id\":\"1652\"},{\"id\":\"1653\"},{\"id\":\"1654\"},{\"id\":\"1655\"},{\"id\":\"1656\"},{\"id\":\"1657\"},{\"id\":\"1658\"},{\"id\":\"1659\"}]},\"id\":\"1533\",\"type\":\"DatetimeTicker\"},{\"attributes\":{},\"id\":\"1528\",\"type\":\"LinearScale\"},{\"attributes\":{},\"id\":\"1563\",\"type\":\"DataRange1d\"},{\"attributes\":{},\"id\":\"1524\",\"type\":\"DataRange1d\"},{\"attributes\":{},\"id\":\"1567\",\"type\":\"LinearScale\"},{\"attributes\":{\"axis_label\":\"Date\",\"formatter\":{\"id\":\"1642\"},\"ticker\":{\"id\":\"1570\"}},\"id\":\"1569\",\"type\":\"DatetimeAxis\"},{\"attributes\":{},\"id\":\"1574\",\"type\":\"BasicTicker\"},{\"attributes\":{\"num_minor_ticks\":5,\"tickers\":[{\"id\":\"1663\"},{\"id\":\"1664\"},{\"id\":\"1665\"},{\"id\":\"1666\"},{\"id\":\"1667\"},{\"id\":\"1668\"},{\"id\":\"1669\"},{\"id\":\"1670\"},{\"id\":\"1671\"},{\"id\":\"1672\"},{\"id\":\"1673\"},{\"id\":\"1674\"}]},\"id\":\"1570\",\"type\":\"DatetimeTicker\"},{\"attributes\":{\"axis\":{\"id\":\"1569\"},\"ticker\":null},\"id\":\"1572\",\"type\":\"Grid\"},{\"attributes\":{\"line_color\":\"#1f77b4\",\"x\":{\"field\":\"x\"},\"y\":{\"field\":\"y\"}},\"id\":\"1554\",\"type\":\"Line\"},{\"attributes\":{\"axis\":{\"id\":\"1573\"},\"dimension\":1,\"ticker\":null},\"id\":\"1576\",\"type\":\"Grid\"},{\"attributes\":{\"line_alpha\":0.1,\"line_color\":\"#1f77b4\",\"x\":{\"field\":\"x\"},\"y\":{\"field\":\"y\"}},\"id\":\"1555\",\"type\":\"Line\"},{\"attributes\":{\"axis_label\":\"Number infected\",\"formatter\":{\"id\":\"1644\"},\"ticker\":{\"id\":\"1574\"}},\"id\":\"1573\",\"type\":\"LinearAxis\"},{\"attributes\":{\"data\":{\"x\":{\"__ndarray__\":\"AACAsOwHd0IAAEAWPwh3QgAAAHyRCHdCAADA4eMId0IAAMB4LQp3QgAAgN5/CndCAABARNIKd0IAAACqJAt3QgAAwA93C3dCAACAdckLd0IAAEDbGwx3QgAAAEFuDHdCAADApsAMd0IAAIAMEw13QgAAQHJlDXdCAAAA2LcNd0IAAMA9Cg53QgAAgKNcDndC\",\"dtype\":\"float64\",\"shape\":[18]},\"y\":[1,3,4,7,10,31,45,66,73,84,89,99,117,190,228,331,352,387]},\"selected\":{\"id\":\"1662\"},\"selection_policy\":{\"id\":\"1661\"}},\"id\":\"1590\",\"type\":\"ColumnDataSource\"},{\"attributes\":{\"line_alpha\":0.1,\"line_color\":\"#1f77b4\",\"x\":{\"field\":\"x\"},\"y\":{\"field\":\"y\"}},\"id\":\"1592\",\"type\":\"Line\"},{\"attributes\":{\"callback\":null,\"tooltips\":[[\"Date\",\"@x\"],[\"New infections\",\"@y\"]]},\"id\":\"1595\",\"type\":\"HoverTool\"},{\"attributes\":{\"data_source\":{\"id\":\"1590\"},\"glyph\":{\"id\":\"1591\"},\"hover_glyph\":null,\"muted_glyph\":null,\"nonselection_glyph\":{\"id\":\"1592\"},\"selection_glyph\":null,\"view\":{\"id\":\"1594\"}},\"id\":\"1593\",\"type\":\"GlyphRenderer\"},{\"attributes\":{\"axis\":{\"id\":\"1532\"},\"ticker\":null},\"id\":\"1535\",\"type\":\"Grid\"},{\"attributes\":{},\"id\":\"1577\",\"type\":\"PanTool\"},{\"attributes\":{},\"id\":\"1526\",\"type\":\"DataRange1d\"},{\"attributes\":{\"axis\":{\"id\":\"1536\"},\"dimension\":1,\"ticker\":null},\"id\":\"1539\",\"type\":\"Grid\"},{\"attributes\":{},\"id\":\"1578\",\"type\":\"WheelZoomTool\"},{\"attributes\":{},\"id\":\"1581\",\"type\":\"ResetTool\"},{\"attributes\":{\"overlay\":{\"id\":\"1660\"}},\"id\":\"1579\",\"type\":\"BoxZoomTool\"},{\"attributes\":{},\"id\":\"1530\",\"type\":\"LinearScale\"},{\"attributes\":{},\"id\":\"1580\",\"type\":\"SaveTool\"}],\"root_ids\":[\"1599\"]},\"title\":\"Bokeh Application\",\"version\":\"2.0.0\"}};\n",
       "  var render_items = [{\"docid\":\"44a6e98b-d80d-4692-a3f0-91466c0fb2bc\",\"root_ids\":[\"1599\"],\"roots\":{\"1599\":\"400d605a-b4e9-4e16-bc8e-5b7b6d34b6bf\"}}];\n",
       "  root.Bokeh.embed.embed_items_notebook(docs_json, render_items);\n",
       "\n",
       "  }\n",
       "  if (root.Bokeh !== undefined) {\n",
       "    embed_document(root);\n",
       "  } else {\n",
       "    var attempts = 0;\n",
       "    var timer = setInterval(function(root) {\n",
       "      if (root.Bokeh !== undefined) {\n",
       "        clearInterval(timer);\n",
       "        embed_document(root);\n",
       "      } else {\n",
       "        attempts++;\n",
       "        if (attempts > 100) {\n",
       "          clearInterval(timer);\n",
       "          console.log(\"Bokeh: ERROR: Unable to run BokehJS code because BokehJS library is missing\");\n",
       "        }\n",
       "      }\n",
       "    }, 10, root)\n",
       "  }\n",
       "})(window);"
      ],
      "application/vnd.bokehjs_exec.v0+json": ""
     },
     "metadata": {
      "application/vnd.bokehjs_exec.v0+json": {
       "id": "1599"
      }
     },
     "output_type": "display_data"
    }
   ],
   "source": [
    "names = [\"city\", \"latitude\", \"longitude\", \"infections\"]\n",
    "loc = pd.read_csv(\n",
    "    'cities.csv',\n",
    "    names=names,\n",
    ")\n",
    "\n",
    "# load the data\n",
    "names = [\"date\", \"infections\"]\n",
    "ts = pd.read_csv(\n",
    "    'greece.csv',\n",
    "    names=names,\n",
    ")\n",
    "ts['date'] = pd.to_datetime(ts['date'], dayfirst=True)\n",
    "\n",
    "# cumulative infections\n",
    "ts['cumulative-infections'] = ts['infections'].cumsum()\n",
    "\n",
    "# infections\n",
    "infections_graph = figure(title = \"Μολύνσεις ανά ημέρα\", x_axis_label = \"Date\", y_axis_label = \"Number infected\", x_axis_type=\"datetime\")\n",
    "\n",
    "# Add a quad glyph\n",
    "infections_graph.line(ts[\"date\"], ts[\"infections\"])\n",
    "\n",
    "\n",
    "# cumulative infections\n",
    "total_infected = figure(title = \"Συνολικές Μολύνσεις\", x_axis_label = \"Date\", y_axis_label = \"Number infected\", x_axis_type=\"datetime\")\n",
    "\n",
    "# Add a quad glyph\n",
    "total_infected.line(ts[\"date\"], ts[\"cumulative-infections\"])\n",
    "\n",
    "infections_graph.add_tools(HoverTool(tooltips=[(\"Date\", \"@x\"), (\"New infections\", \"@y\")]))\n",
    "total_infected.add_tools(HoverTool(tooltips=[(\"Date\", \"@x\"), (\"Total Infected\", \"@y\")]))\n",
    "\n",
    "show(row(infections_graph, total_infected))"
   ]
  },
  {
   "cell_type": "markdown",
   "metadata": {},
   "source": [
    "# The Logistic Curve\n",
    "\n",
    "Explain population growth"
   ]
  },
  {
   "cell_type": "code",
   "execution_count": 11,
   "metadata": {},
   "outputs": [
    {
     "data": {
      "text/html": [
       "\n",
       "\n",
       "\n",
       "\n",
       "\n",
       "\n",
       "  <div class=\"bk-root\" id=\"9506c34c-421b-44c5-b441-3e3555dd9f92\" data-root-id=\"1915\"></div>\n"
      ]
     },
     "metadata": {},
     "output_type": "display_data"
    },
    {
     "data": {
      "application/javascript": [
       "(function(root) {\n",
       "  function embed_document(root) {\n",
       "    \n",
       "  var docs_json = {\"11304794-5f7b-4017-9833-6fc81315cfff\":{\"roots\":{\"references\":[{\"attributes\":{\"below\":[{\"id\":\"1926\"}],\"center\":[{\"id\":\"1929\"},{\"id\":\"1933\"}],\"left\":[{\"id\":\"1930\"}],\"renderers\":[{\"id\":\"1952\"}],\"title\":{\"id\":\"1916\"},\"toolbar\":{\"id\":\"1940\"},\"x_range\":{\"id\":\"1918\"},\"x_scale\":{\"id\":\"1922\"},\"y_range\":{\"id\":\"1920\"},\"y_scale\":{\"id\":\"1924\"}},\"id\":\"1915\",\"subtype\":\"Figure\",\"type\":\"Plot\"},{\"attributes\":{\"axis_label\":\"time\",\"fixed_location\":0,\"formatter\":{\"id\":\"2031\"},\"ticker\":{\"id\":\"1927\"}},\"id\":\"1926\",\"type\":\"DatetimeAxis\"},{\"attributes\":{\"overlay\":{\"id\":\"2034\"}},\"id\":\"1936\",\"type\":\"BoxZoomTool\"},{\"attributes\":{\"months\":[0,1,2,3,4,5,6,7,8,9,10,11]},\"id\":\"2044\",\"type\":\"MonthsTicker\"},{\"attributes\":{},\"id\":\"1934\",\"type\":\"PanTool\"},{\"attributes\":{\"bottom_units\":\"screen\",\"fill_alpha\":0.5,\"fill_color\":\"lightgrey\",\"left_units\":\"screen\",\"level\":\"overlay\",\"line_alpha\":1.0,\"line_color\":\"black\",\"line_dash\":[4,4],\"line_width\":2,\"render_mode\":\"css\",\"right_units\":\"screen\",\"top_units\":\"screen\"},\"id\":\"2034\",\"type\":\"BoxAnnotation\"},{\"attributes\":{},\"id\":\"1939\",\"type\":\"HelpTool\"},{\"attributes\":{\"num_minor_ticks\":5,\"tickers\":[{\"id\":\"2037\"},{\"id\":\"2038\"},{\"id\":\"2039\"},{\"id\":\"2040\"},{\"id\":\"2041\"},{\"id\":\"2042\"},{\"id\":\"2043\"},{\"id\":\"2044\"},{\"id\":\"2045\"},{\"id\":\"2046\"},{\"id\":\"2047\"},{\"id\":\"2048\"}]},\"id\":\"1927\",\"type\":\"DatetimeTicker\"},{\"attributes\":{\"days\":[1,15]},\"id\":\"2043\",\"type\":\"DaysTicker\"},{\"attributes\":{\"months\":[0,2,4,6,8,10]},\"id\":\"2045\",\"type\":\"MonthsTicker\"},{\"attributes\":{},\"id\":\"1920\",\"type\":\"DataRange1d\"},{\"attributes\":{},\"id\":\"2035\",\"type\":\"UnionRenderers\"},{\"attributes\":{\"text\":\"Logistic Curve\"},\"id\":\"1916\",\"type\":\"Title\"},{\"attributes\":{\"months\":[0,4,8]},\"id\":\"2046\",\"type\":\"MonthsTicker\"},{\"attributes\":{\"mantissas\":[1,2,5],\"max_interval\":500.0,\"num_minor_ticks\":0},\"id\":\"2037\",\"type\":\"AdaptiveTicker\"},{\"attributes\":{\"months\":[0,6]},\"id\":\"2047\",\"type\":\"MonthsTicker\"},{\"attributes\":{\"data_source\":{\"id\":\"1949\"},\"glyph\":{\"id\":\"1950\"},\"hover_glyph\":null,\"muted_glyph\":null,\"nonselection_glyph\":{\"id\":\"1951\"},\"selection_glyph\":null,\"view\":{\"id\":\"1953\"}},\"id\":\"1952\",\"type\":\"GlyphRenderer\"},{\"attributes\":{},\"id\":\"1924\",\"type\":\"LinearScale\"},{\"attributes\":{},\"id\":\"2031\",\"type\":\"DatetimeTickFormatter\"},{\"attributes\":{\"base\":60,\"mantissas\":[1,2,5,10,15,20,30],\"max_interval\":1800000.0,\"min_interval\":1000.0,\"num_minor_ticks\":0},\"id\":\"2038\",\"type\":\"AdaptiveTicker\"},{\"attributes\":{},\"id\":\"2048\",\"type\":\"YearsTicker\"},{\"attributes\":{},\"id\":\"1937\",\"type\":\"SaveTool\"},{\"attributes\":{},\"id\":\"1935\",\"type\":\"WheelZoomTool\"},{\"attributes\":{\"data\":{\"x\":{\"__ndarray__\":\"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\",\"dtype\":\"float64\",\"shape\":[1000]},\"y\":{\"__ndarray__\":\"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\",\"dtype\":\"float64\",\"shape\":[1000]}},\"selected\":{\"id\":\"2036\"},\"selection_policy\":{\"id\":\"2035\"}},\"id\":\"1949\",\"type\":\"ColumnDataSource\"},{\"attributes\":{\"line_alpha\":0.1,\"line_color\":\"#1f77b4\",\"x\":{\"field\":\"x\"},\"y\":{\"field\":\"y\"}},\"id\":\"1951\",\"type\":\"Line\"},{\"attributes\":{\"base\":24,\"mantissas\":[1,2,4,6,8,12],\"max_interval\":43200000.0,\"min_interval\":3600000.0,\"num_minor_ticks\":0},\"id\":\"2039\",\"type\":\"AdaptiveTicker\"},{\"attributes\":{\"days\":[1,8,15,22]},\"id\":\"2042\",\"type\":\"DaysTicker\"},{\"attributes\":{\"line_color\":\"#1f77b4\",\"x\":{\"field\":\"x\"},\"y\":{\"field\":\"y\"}},\"id\":\"1950\",\"type\":\"Line\"},{\"attributes\":{\"days\":[1,4,7,10,13,16,19,22,25,28]},\"id\":\"2041\",\"type\":\"DaysTicker\"},{\"attributes\":{\"axis_label\":\"Population Growth\",\"formatter\":{\"id\":\"2033\"},\"ticker\":{\"id\":\"1931\"}},\"id\":\"1930\",\"type\":\"LinearAxis\"},{\"attributes\":{},\"id\":\"2033\",\"type\":\"BasicTickFormatter\"},{\"attributes\":{\"days\":[1,2,3,4,5,6,7,8,9,10,11,12,13,14,15,16,17,18,19,20,21,22,23,24,25,26,27,28,29,30,31]},\"id\":\"2040\",\"type\":\"DaysTicker\"},{\"attributes\":{\"active_drag\":\"auto\",\"active_inspect\":\"auto\",\"active_multi\":null,\"active_scroll\":\"auto\",\"active_tap\":\"auto\",\"tools\":[{\"id\":\"1934\"},{\"id\":\"1935\"},{\"id\":\"1936\"},{\"id\":\"1937\"},{\"id\":\"1938\"},{\"id\":\"1939\"},{\"id\":\"1947\"}]},\"id\":\"1940\",\"type\":\"Toolbar\"},{\"attributes\":{},\"id\":\"2036\",\"type\":\"Selection\"},{\"attributes\":{\"axis\":{\"id\":\"1930\"},\"dimension\":1,\"ticker\":null},\"id\":\"1933\",\"type\":\"Grid\"},{\"attributes\":{\"source\":{\"id\":\"1949\"}},\"id\":\"1953\",\"type\":\"CDSView\"},{\"attributes\":{},\"id\":\"1918\",\"type\":\"DataRange1d\"},{\"attributes\":{},\"id\":\"1922\",\"type\":\"LinearScale\"},{\"attributes\":{\"axis\":{\"id\":\"1926\"},\"ticker\":null},\"id\":\"1929\",\"type\":\"Grid\"},{\"attributes\":{},\"id\":\"1938\",\"type\":\"ResetTool\"},{\"attributes\":{},\"id\":\"1931\",\"type\":\"BasicTicker\"},{\"attributes\":{\"callback\":null,\"tooltips\":[[\"Time\",\"@x\"],[\"Population Size\",\"@y\"]]},\"id\":\"1947\",\"type\":\"HoverTool\"}],\"root_ids\":[\"1915\"]},\"title\":\"Bokeh Application\",\"version\":\"2.0.0\"}};\n",
       "  var render_items = [{\"docid\":\"11304794-5f7b-4017-9833-6fc81315cfff\",\"root_ids\":[\"1915\"],\"roots\":{\"1915\":\"9506c34c-421b-44c5-b441-3e3555dd9f92\"}}];\n",
       "  root.Bokeh.embed.embed_items_notebook(docs_json, render_items);\n",
       "\n",
       "  }\n",
       "  if (root.Bokeh !== undefined) {\n",
       "    embed_document(root);\n",
       "  } else {\n",
       "    var attempts = 0;\n",
       "    var timer = setInterval(function(root) {\n",
       "      if (root.Bokeh !== undefined) {\n",
       "        clearInterval(timer);\n",
       "        embed_document(root);\n",
       "      } else {\n",
       "        attempts++;\n",
       "        if (attempts > 100) {\n",
       "          clearInterval(timer);\n",
       "          console.log(\"Bokeh: ERROR: Unable to run BokehJS code because BokehJS library is missing\");\n",
       "        }\n",
       "      }\n",
       "    }, 10, root)\n",
       "  }\n",
       "})(window);"
      ],
      "application/vnd.bokehjs_exec.v0+json": ""
     },
     "metadata": {
      "application/vnd.bokehjs_exec.v0+json": {
       "id": "1915"
      }
     },
     "output_type": "display_data"
    }
   ],
   "source": [
    "import numpy as np\n",
    "\n",
    "# f(x) = \\frac{L}{1 + e^{-k(x-x0)}}\n",
    "def sigmoid(x, L, x0, k):\n",
    "    y = L / (1 + np.exp(-k*(x-x0)))\n",
    "    return y\n",
    "\n",
    "def sigmoid_with_growth(growth):\n",
    "    return lambda x, L, x0: sigmoid(x, L, x0, growth)\n",
    "\n",
    "x = np.linspace(-10, 10, 1000)\n",
    "y = sigmoid(x, 1, 0.5, 1)\n",
    "\n",
    "# cumulative infections\n",
    "logistic_curve = figure(title = \"Logistic Curve\", x_axis_label = \"time\", y_axis_label = \"Population Growth\", x_axis_type=\"datetime\")\n",
    "logistic_curve.xaxis.fixed_location = 0\n",
    "logistic_curve.add_tools(HoverTool(tooltips=[(\"Time\", \"@x\"), (\"Population Size\", \"@y\")]))\n",
    "\n",
    "# Add a quad glyph\n",
    "logistic_curve.line(x, y)\n",
    "\n",
    "show(logistic_curve)"
   ]
  },
  {
   "cell_type": "markdown",
   "metadata": {},
   "source": [
    "# Predictions and Curve Fitting\n",
    "\n",
    "Using Italy as reference, we will use growth rates 0.23, 0.235, 0.24"
   ]
  },
  {
   "cell_type": "code",
   "execution_count": 26,
   "metadata": {
    "scrolled": false
   },
   "outputs": [
    {
     "data": {
      "text/html": [
       "\n",
       "\n",
       "\n",
       "\n",
       "\n",
       "\n",
       "  <div class=\"bk-root\" id=\"b7c04c83-a9d2-4e1c-9baa-21ac3c786e19\" data-root-id=\"8093\"></div>\n"
      ]
     },
     "metadata": {},
     "output_type": "display_data"
    },
    {
     "data": {
      "application/javascript": [
       "(function(root) {\n",
       "  function embed_document(root) {\n",
       "    \n",
       "  var docs_json = {\"f668af3c-2f36-403e-9b81-78559613ee3a\":{\"roots\":{\"references\":[{\"attributes\":{\"below\":[{\"id\":\"8104\"}],\"center\":[{\"id\":\"8107\"},{\"id\":\"8111\"}],\"left\":[{\"id\":\"8108\"}],\"plot_width\":800,\"renderers\":[{\"id\":\"8128\"},{\"id\":\"8133\"},{\"id\":\"8140\"}],\"title\":{\"id\":\"8094\"},\"toolbar\":{\"id\":\"8118\"},\"x_range\":{\"id\":\"8096\"},\"x_scale\":{\"id\":\"8100\"},\"y_range\":{\"id\":\"8098\"},\"y_scale\":{\"id\":\"8102\"}},\"id\":\"8093\",\"subtype\":\"Figure\",\"type\":\"Plot\"},{\"attributes\":{},\"id\":\"8102\",\"type\":\"LinearScale\"},{\"attributes\":{\"active_drag\":\"auto\",\"active_inspect\":\"auto\",\"active_multi\":null,\"active_scroll\":\"auto\",\"active_tap\":\"auto\",\"tools\":[{\"id\":\"8112\"},{\"id\":\"8113\"},{\"id\":\"8114\"},{\"id\":\"8115\"},{\"id\":\"8116\"},{\"id\":\"8117\"},{\"id\":\"8135\"}]},\"id\":\"8118\",\"type\":\"Toolbar\"},{\"attributes\":{\"source\":{\"id\":\"8130\"}},\"id\":\"8134\",\"type\":\"CDSView\"},{\"attributes\":{\"months\":[0,2,4,6,8,10]},\"id\":\"8545\",\"type\":\"MonthsTicker\"},{\"attributes\":{\"data_source\":{\"id\":\"8137\"},\"glyph\":{\"id\":\"8138\"},\"hover_glyph\":null,\"muted_glyph\":null,\"nonselection_glyph\":{\"id\":\"8139\"},\"selection_glyph\":null,\"view\":{\"id\":\"8141\"}},\"id\":\"8140\",\"type\":\"GlyphRenderer\"},{\"attributes\":{},\"id\":\"8117\",\"type\":\"HelpTool\"},{\"attributes\":{\"months\":[0,4,8]},\"id\":\"8546\",\"type\":\"MonthsTicker\"},{\"attributes\":{\"callback\":null,\"formatters\":{\"DateTime\":\"datetime\"},\"tooltips\":[[\"Date\",\"@x\"],[\"Total infections\",\"@y\"]]},\"id\":\"8135\",\"type\":\"HoverTool\"},{\"attributes\":{\"end\":7000},\"id\":\"8098\",\"type\":\"Range1d\"},{\"attributes\":{\"data\":{\"x\":{\"__ndarray__\":\"AACAsOwHd0IAAEAWPwh3QgAAAHyRCHdCAADA4eMId0IAAMB4LQp3QgAAgN5/CndCAABARNIKd0IAAACqJAt3QgAAwA93C3dCAACAdckLd0IAAEDbGwx3QgAAAEFuDHdCAADApsAMd0IAAIAMEw13QgAAQHJlDXdC\",\"dtype\":\"float64\",\"shape\":[15]},\"y\":[1,3,4,7,10,31,45,66,73,84,89,99,117,190,228]},\"selected\":{\"id\":\"8532\"},\"selection_policy\":{\"id\":\"8531\"}},\"id\":\"8125\",\"type\":\"ColumnDataSource\"},{\"attributes\":{\"months\":[0,6]},\"id\":\"8547\",\"type\":\"MonthsTicker\"},{\"attributes\":{\"data\":{\"x\":{\"__ndarray__\":\"AAAA2LcNd0IAAMA9Cg53QgAAgKNcDndC\",\"dtype\":\"float64\",\"shape\":[3]},\"y\":[331,352,387]},\"selected\":{\"id\":\"8534\"},\"selection_policy\":{\"id\":\"8533\"}},\"id\":\"8130\",\"type\":\"ColumnDataSource\"},{\"attributes\":{\"num_minor_ticks\":5,\"tickers\":[{\"id\":\"8537\"},{\"id\":\"8538\"},{\"id\":\"8539\"},{\"id\":\"8540\"},{\"id\":\"8541\"},{\"id\":\"8542\"},{\"id\":\"8543\"},{\"id\":\"8544\"},{\"id\":\"8545\"},{\"id\":\"8546\"},{\"id\":\"8547\"},{\"id\":\"8548\"}]},\"id\":\"8105\",\"type\":\"DatetimeTicker\"},{\"attributes\":{\"fill_alpha\":{\"value\":0.1},\"fill_color\":{\"value\":\"#1f77b4\"},\"line_alpha\":{\"value\":0.1},\"line_color\":{\"value\":\"#1f77b4\"},\"x\":{\"field\":\"x\"},\"y\":{\"field\":\"y\"}},\"id\":\"8127\",\"type\":\"Asterisk\"},{\"attributes\":{\"fill_color\":{\"value\":\"#1f77b4\"},\"line_color\":{\"value\":\"#1f77b4\"},\"x\":{\"field\":\"x\"},\"y\":{\"field\":\"y\"}},\"id\":\"8126\",\"type\":\"Asterisk\"},{\"attributes\":{},\"id\":\"8548\",\"type\":\"YearsTicker\"},{\"attributes\":{\"line_color\":\"#1f77b4\",\"x\":{\"field\":\"x\"},\"y\":{\"field\":\"y\"}},\"id\":\"8138\",\"type\":\"Line\"},{\"attributes\":{},\"id\":\"8535\",\"type\":\"UnionRenderers\"},{\"attributes\":{\"axis\":{\"id\":\"8108\"},\"dimension\":1,\"ticker\":null},\"id\":\"8111\",\"type\":\"Grid\"},{\"attributes\":{},\"id\":\"8096\",\"type\":\"DataRange1d\"},{\"attributes\":{\"fill_alpha\":{\"value\":0.1},\"fill_color\":{\"value\":\"#1f77b4\"},\"line_alpha\":{\"value\":0.1},\"line_color\":{\"value\":\"#f0027f\"},\"x\":{\"field\":\"x\"},\"y\":{\"field\":\"y\"}},\"id\":\"8132\",\"type\":\"CircleX\"},{\"attributes\":{\"fill_color\":{\"value\":\"#1f77b4\"},\"line_color\":{\"value\":\"#f0027f\"},\"x\":{\"field\":\"x\"},\"y\":{\"field\":\"y\"}},\"id\":\"8131\",\"type\":\"CircleX\"},{\"attributes\":{\"base\":60,\"mantissas\":[1,2,5,10,15,20,30],\"max_interval\":1800000.0,\"min_interval\":1000.0,\"num_minor_ticks\":0},\"id\":\"8538\",\"type\":\"AdaptiveTicker\"},{\"attributes\":{\"data\":{\"x\":{\"__ndarray__\":\"AACAsOwHd0IAAEAWPwh3QgAAAHyRCHdCAADA4eMId0IAAIBHNgl3QgAAQK2ICXdCAAAAE9sJd0IAAMB4LQp3QgAAgN5/CndCAABARNIKd0IAAACqJAt3QgAAwA93C3dCAACAdckLd0IAAEDbGwx3QgAAAEFuDHdCAADApsAMd0IAAIAMEw13QgAAQHJlDXdCAAAA2LcNd0IAAMA9Cg53QgAAgKNcDndCAABACa8Od0IAAABvAQ93QgAAwNRTD3dCAACAOqYPd0IAAECg+A93QgAAAAZLEHdCAADAa50Qd0IAAIDR7xB3QgAAQDdCEXdCAAAAnZQRd0IAAMAC5xF3QgAAgGg5EndCAABAzosSd0IAAAA03hJ3QgAAwJkwE3dCAACA/4ITd0IAAEBl1RN3QgAAAMsnFHdCAADAMHoUd0IAAICWzBR3QgAAQPweFXdCAAAAYnEVd0IAAMDHwxV3QgAAgC0WFndCAABAk2gWd0IAAAD5uhZ3QgAAwF4NF3dCAACAxF8Xd0IAAEAqshd3QgAAAJAEGHdCAADA9VYYd0IAAIBbqRh3QgAAQMH7GHdCAAAAJ04Zd0IAAMCMoBl3QgAAgPLyGXdCAABAWEUad0IAAAC+lxp3QgAAwCPqGndCAACAiTwbd0IAAEDvjht3QgAAAFXhG3dCAADAujMcd0IAAIAghhx3QgAAQIbYHHdCAAAA7Codd0IAAMBRfR13QgAAgLfPHXdCAABAHSIed0IAAACDdB53QgAAwOjGHndCAACAThkfd0IAAEC0ax93QgAAABq+H3dCAADAfxAgd0IAAIDlYiB3QgAAQEu1IHdCAAAAsQchd0IAAMAWWiF3QgAAgHysIXdCAABA4v4hd0IAAABIUSJ3QgAAwK2jIndCAACAE/Yid0IAAEB5SCN3QgAAAN+aI3dCAADARO0jd0IAAICqPyR3QgAAQBCSJHdC\",\"dtype\":\"float64\",\"shape\":[90]},\"y\":{\"__ndarray__\":\"MkY+GbuUEkAQjDhroWEXQLZwXQKhax1AH1OcUimCIkDlCl9NFkknQMYeXnniSi1AQ+sK7RZsMkD3w1yH/So3QBtvMR5YIT1ADj3k/A5PQkD+rPTb5AFHQMqPX01w5kxAv0XR2FYkUkCKyrmrQMNWQD+C0C6wiVxAowENlxnfYUCk8qM1LFtmQDu0RXts7GtATcKOId5ncUB7X6bSC6Z1QCKS9Ms+2XpAtOcgTS+XgECbsUoyp2qEQH9tZaUw/4hAyrI/CjdrjkCU7kdPWmCSQOpZWqLvBJZAj191B8gimkCFBkG2BLKeQBLfkTQ+0aFAx1OFAOVtpEBFA1IXWB+nQLXH0Vbj06lASBanL4F5rECrTDv4r/+uQAraIyd7rLBAFMTSDui9sUBFesPTdrGyQMI6pAduhrNAmUtbjqU9tEBYoAbYFNm0QLB55c1jW7VAfJoY5YzHtUBxXmJMliC2QCNU1xNiabZAGfhF0pGktkBtgyoYedS2QBu4lyEa+7ZARSss/Sgat0CoQ+ZPEjO3QOHbMb0DR7dAoLt4rvRWt0AKSvS5rmO3QMO+lEPVbbdANkzHLex1t0CZYbaTXXy3QGacs5p+gbdAjupfcpOFt0C1TMae0oi3QBrgmqdni7dAoZbdRXWNt0DMEEwmF4+3QFQV+FNjkLdAlfpYW2uRt0CQv3IzPZK3QJrcR/jjkrdAWCy+f2iTt0ASzmbQ0ZO3QKPWK4AllLdAlQi7/2eUt0CKq5DWnJS3QJLJv9LGlLdAKXz1LuiUt0CulbSwApW3QBP9X8AXlbdAHKRXfCiVt0C6HirINZW3QHVKqFhAlbdAmYN+vUiVt0CdedVoT5W3QPEVYrVUlbdATLg261iVt0BuL5dDXJW3QBxsA+xelbdAxUGiCGGVt0AZDS22YpW3QEBbdgtklbdAEVCgGmWVt0CORxPyZZW3QPnLQZ1mlbdA\",\"dtype\":\"float64\",\"shape\":[90]}},\"selected\":{\"id\":\"8536\"},\"selection_policy\":{\"id\":\"8535\"}},\"id\":\"8137\",\"type\":\"ColumnDataSource\"},{\"attributes\":{\"bottom_units\":\"screen\",\"fill_alpha\":0.5,\"fill_color\":\"lightgrey\",\"left_units\":\"screen\",\"level\":\"overlay\",\"line_alpha\":1.0,\"line_color\":\"black\",\"line_dash\":[4,4],\"line_width\":2,\"render_mode\":\"css\",\"right_units\":\"screen\",\"top_units\":\"screen\"},\"id\":\"8530\",\"type\":\"BoxAnnotation\"},{\"attributes\":{\"overlay\":{\"id\":\"8530\"}},\"id\":\"8114\",\"type\":\"BoxZoomTool\"},{\"attributes\":{},\"id\":\"8536\",\"type\":\"Selection\"},{\"attributes\":{\"days\":[1,4,7,10,13,16,19,22,25,28]},\"id\":\"8541\",\"type\":\"DaysTicker\"},{\"attributes\":{\"mantissas\":[1,2,5],\"max_interval\":500.0,\"num_minor_ticks\":0},\"id\":\"8537\",\"type\":\"AdaptiveTicker\"},{\"attributes\":{\"axis\":{\"id\":\"8104\"},\"ticker\":null},\"id\":\"8107\",\"type\":\"Grid\"},{\"attributes\":{\"axis_label\":\"Total Infections\",\"formatter\":{\"id\":\"8529\"},\"ticker\":{\"id\":\"8109\"}},\"id\":\"8108\",\"type\":\"LinearAxis\"},{\"attributes\":{},\"id\":\"8113\",\"type\":\"WheelZoomTool\"},{\"attributes\":{},\"id\":\"8534\",\"type\":\"Selection\"},{\"attributes\":{\"base\":24,\"mantissas\":[1,2,4,6,8,12],\"max_interval\":43200000.0,\"min_interval\":3600000.0,\"num_minor_ticks\":0},\"id\":\"8539\",\"type\":\"AdaptiveTicker\"},{\"attributes\":{},\"id\":\"8112\",\"type\":\"PanTool\"},{\"attributes\":{},\"id\":\"8115\",\"type\":\"SaveTool\"},{\"attributes\":{\"text\":\"Predictions\"},\"id\":\"8094\",\"type\":\"Title\"},{\"attributes\":{\"months\":[0,1,2,3,4,5,6,7,8,9,10,11]},\"id\":\"8544\",\"type\":\"MonthsTicker\"},{\"attributes\":{\"data_source\":{\"id\":\"8130\"},\"glyph\":{\"id\":\"8131\"},\"hover_glyph\":null,\"muted_glyph\":null,\"nonselection_glyph\":{\"id\":\"8132\"},\"selection_glyph\":null,\"view\":{\"id\":\"8134\"}},\"id\":\"8133\",\"type\":\"GlyphRenderer\"},{\"attributes\":{},\"id\":\"8100\",\"type\":\"LinearScale\"},{\"attributes\":{\"days\":[1,8,15,22]},\"id\":\"8542\",\"type\":\"DaysTicker\"},{\"attributes\":{\"data_source\":{\"id\":\"8125\"},\"glyph\":{\"id\":\"8126\"},\"hover_glyph\":null,\"muted_glyph\":null,\"nonselection_glyph\":{\"id\":\"8127\"},\"selection_glyph\":null,\"view\":{\"id\":\"8129\"}},\"id\":\"8128\",\"type\":\"GlyphRenderer\"},{\"attributes\":{},\"id\":\"8532\",\"type\":\"Selection\"},{\"attributes\":{},\"id\":\"8116\",\"type\":\"ResetTool\"},{\"attributes\":{},\"id\":\"8531\",\"type\":\"UnionRenderers\"},{\"attributes\":{\"days\":[1,15]},\"id\":\"8543\",\"type\":\"DaysTicker\"},{\"attributes\":{\"source\":{\"id\":\"8137\"}},\"id\":\"8141\",\"type\":\"CDSView\"},{\"attributes\":{\"line_alpha\":0.1,\"line_color\":\"#1f77b4\",\"x\":{\"field\":\"x\"},\"y\":{\"field\":\"y\"}},\"id\":\"8139\",\"type\":\"Line\"},{\"attributes\":{},\"id\":\"8527\",\"type\":\"DatetimeTickFormatter\"},{\"attributes\":{},\"id\":\"8529\",\"type\":\"BasicTickFormatter\"},{\"attributes\":{},\"id\":\"8109\",\"type\":\"BasicTicker\"},{\"attributes\":{},\"id\":\"8533\",\"type\":\"UnionRenderers\"},{\"attributes\":{\"days\":[1,2,3,4,5,6,7,8,9,10,11,12,13,14,15,16,17,18,19,20,21,22,23,24,25,26,27,28,29,30,31]},\"id\":\"8540\",\"type\":\"DaysTicker\"},{\"attributes\":{\"axis_label\":\"Date\",\"formatter\":{\"id\":\"8527\"},\"ticker\":{\"id\":\"8105\"}},\"id\":\"8104\",\"type\":\"DatetimeAxis\"},{\"attributes\":{\"source\":{\"id\":\"8125\"}},\"id\":\"8129\",\"type\":\"CDSView\"}],\"root_ids\":[\"8093\"]},\"title\":\"Bokeh Application\",\"version\":\"2.0.0\"}};\n",
       "  var render_items = [{\"docid\":\"f668af3c-2f36-403e-9b81-78559613ee3a\",\"notebook_comms_target\":\"8549\",\"root_ids\":[\"8093\"],\"roots\":{\"8093\":\"b7c04c83-a9d2-4e1c-9baa-21ac3c786e19\"}}];\n",
       "  root.Bokeh.embed.embed_items_notebook(docs_json, render_items);\n",
       "\n",
       "  }\n",
       "  if (root.Bokeh !== undefined) {\n",
       "    embed_document(root);\n",
       "  } else {\n",
       "    var attempts = 0;\n",
       "    var timer = setInterval(function(root) {\n",
       "      if (root.Bokeh !== undefined) {\n",
       "        clearInterval(timer);\n",
       "        embed_document(root);\n",
       "      } else {\n",
       "        attempts++;\n",
       "        if (attempts > 100) {\n",
       "          clearInterval(timer);\n",
       "          console.log(\"Bokeh: ERROR: Unable to run BokehJS code because BokehJS library is missing\");\n",
       "        }\n",
       "      }\n",
       "    }, 10, root)\n",
       "  }\n",
       "})(window);"
      ],
      "application/vnd.bokehjs_exec.v0+json": ""
     },
     "metadata": {
      "application/vnd.bokehjs_exec.v0+json": {
       "id": "8093"
      }
     },
     "output_type": "display_data"
    },
    {
     "data": {
      "application/vnd.jupyter.widget-view+json": {
       "model_id": "c32bd5d6fafa453d8ce91f04b907ac2d",
       "version_major": 2,
       "version_minor": 0
      },
      "text/plain": [
       "interactive(children=(FloatSlider(value=0.23, description='k', max=0.35, min=0.22, step=0.0015), IntSlider(val…"
      ]
     },
     "metadata": {},
     "output_type": "display_data"
    },
    {
     "data": {
      "text/plain": [
       "<function __main__.render(k=0.23, SAMPLES=15)>"
      ]
     },
     "execution_count": 26,
     "metadata": {},
     "output_type": "execute_result"
    }
   ],
   "source": [
    "from scipy.optimize import curve_fit\n",
    "from bokeh.io import push_notebook\n",
    "\n",
    "first_infection = ts['date'].loc[0]\n",
    "\n",
    "SAMPLES = 15\n",
    "\n",
    "# get days since first infection\n",
    "x_train = (ts['date'] - first_infection).dt.days[:SAMPLES]\n",
    "y_train = list(ts['cumulative-infections'])[:SAMPLES]\n",
    "\n",
    "\n",
    "    \n",
    "sigmoids = figure(y_range=(0,7000), title = \"Predictions\", x_axis_label = \"Date\", y_axis_label = \"Total Infections\", x_axis_type=\"datetime\", width =800)\n",
    "\n",
    "\n",
    "# try to project 90 days since the first incident\n",
    "real = sigmoids.asterisk(ts['date'][:SAMPLES], ts['cumulative-infections'][:SAMPLES])\n",
    "pred = sigmoids.circle_x(ts['date'][SAMPLES:], ts['cumulative-infections'][SAMPLES:], line_color=\"#f0027f\")\n",
    "sigmoids.add_tools(HoverTool(tooltips=[(\"Date\", \"@x\"), (\"Total infections\", \"@y\")], formatters={'DateTime': 'datetime'}))\n",
    "\n",
    "\n",
    "x = range(0, 90) # 90 days forecast\n",
    "x_days = first_infection + pd.to_timedelta(x, unit = 'D')\n",
    "growth_rate = 0.23\n",
    "popt, pcov = curve_fit(sigmoid_with_growth(growth_rate), x_train, y_train, maxfev=10000)\n",
    "y = sigmoid(x, *popt, growth_rate)\n",
    "r = sigmoids.line(x_days, y)\n",
    "\n",
    "def render(k=0.23, SAMPLES = 15):\n",
    "    x_train = (ts['date'] - first_infection).dt.days[:SAMPLES]\n",
    "    y_train = list(ts['cumulative-infections'])[:SAMPLES]\n",
    "    \n",
    "    # update the trained values\n",
    "    real.data_source.data = {'x': ts['date'][:SAMPLES], 'y':  ts['cumulative-infections'][:SAMPLES] }\n",
    "    \n",
    "    # update the new values\n",
    "    pred.data_source.data = {'x': ts['date'][SAMPLES:], 'y': ts['cumulative-infections'][SAMPLES:] }\n",
    "    \n",
    "    popt, pcov = curve_fit(sigmoid_with_growth(k), x_train, y_train, maxfev=10000)\n",
    "    r.data_source.data['y'] = sigmoid(x, *popt, k)\n",
    "    push_notebook()\n",
    "    \n",
    "\n",
    "show(sigmoids, notebook_handle=True)\n",
    "from ipywidgets import interact\n",
    "interact(render, k=(0.22,0.35,0.0015), samples = (10, len(ts)))"
   ]
  }
 ],
 "metadata": {
  "kernelspec": {
   "display_name": "Python 3",
   "language": "python",
   "name": "python3"
  },
  "language_info": {
   "codemirror_mode": {
    "name": "ipython",
    "version": 3
   },
   "file_extension": ".py",
   "mimetype": "text/x-python",
   "name": "python",
   "nbconvert_exporter": "python",
   "pygments_lexer": "ipython3",
   "version": "3.7.5"
  }
 },
 "nbformat": 4,
 "nbformat_minor": 4
}
